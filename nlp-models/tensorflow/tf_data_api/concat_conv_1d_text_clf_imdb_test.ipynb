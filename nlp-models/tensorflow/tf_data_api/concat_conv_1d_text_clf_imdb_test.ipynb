{
 "cells": [
  {
   "cell_type": "code",
   "execution_count": 1,
   "metadata": {},
   "outputs": [],
   "source": [
    "from sklearn.metrics import classification_report\n",
    "\n",
    "import tensorflow as tf\n",
    "import numpy as np\n",
    "\n",
    "\n",
    "VOCAB_SIZE = 5000\n",
    "MAX_LEN = 400\n",
    "BATCH_SIZE = 32\n",
    "EMBED_DIM = 50\n",
    "FILTERS = 250\n",
    "N_CLASS = 2\n",
    "N_EPOCH = 2\n",
    "DISPLAY_STEP = 50"
   ]
  },
  {
   "cell_type": "code",
   "execution_count": 2,
   "metadata": {},
   "outputs": [],
   "source": [
    "(X_train, y_train), (X_test, y_test) = tf.keras.datasets.imdb.load_data(num_words=VOCAB_SIZE)\n",
    "X_train = tf.keras.preprocessing.sequence.pad_sequences(X_train, maxlen=MAX_LEN)\n",
    "X_test = tf.keras.preprocessing.sequence.pad_sequences(X_test, maxlen=MAX_LEN)"
   ]
  },
  {
   "cell_type": "code",
   "execution_count": 3,
   "metadata": {},
   "outputs": [],
   "source": [
    "def init_dataset(X, y):\n",
    "    dataset = tf.data.Dataset.from_tensor_slices((X, y))\n",
    "    dataset = dataset.batch(BATCH_SIZE)\n",
    "    iterator = dataset.make_initializable_iterator()\n",
    "    return iterator\n",
    "\n",
    "sess = tf.Session()\n",
    "iter_train = init_dataset(X_train, y_train)\n",
    "iter_test = init_dataset(X_test, y_test)\n",
    "\n",
    "X_tr_ph = tf.placeholder(tf.int32, [None, MAX_LEN])\n",
    "y_tr_ph = tf.placeholder(tf.int64, [None])\n",
    "X_te_ph = tf.placeholder(tf.int32, [None, MAX_LEN])\n",
    "y_te_ph = tf.placeholder(tf.int64, [None])\n",
    "    \n",
    "sess.run(iter_train.initializer, {X_tr_ph: X_train, y_tr_ph: y_train})\n",
    "sess.run(iter_test.initializer, {X_te_ph: X_test, y_te_ph: y_test})"
   ]
  },
  {
   "cell_type": "code",
   "execution_count": 4,
   "metadata": {},
   "outputs": [],
   "source": [
    "def forward(x, reuse, is_training):\n",
    "    with tf.variable_scope('model', reuse=reuse):\n",
    "        x = tf.contrib.layers.embed_sequence(x, VOCAB_SIZE, EMBED_DIM)\n",
    "        x = tf.layers.dropout(x, 0.2, training=is_training)\n",
    "        feat_map = []\n",
    "        for k_size in [3, 4, 5]:\n",
    "            _x = tf.layers.conv1d(x, FILTERS, k_size, activation=tf.nn.relu)\n",
    "            _x = tf.layers.max_pooling1d(_x, _x.get_shape().as_list()[1], 1)\n",
    "            _x = tf.reshape(_x, (tf.shape(x)[0], FILTERS))\n",
    "            feat_map.append(_x)\n",
    "        x = tf.concat(feat_map, -1)\n",
    "        x = tf.layers.dense(x, FILTERS, tf.nn.relu)\n",
    "        logits = tf.layers.dense(x, N_CLASS)\n",
    "    return logits"
   ]
  },
  {
   "cell_type": "code",
   "execution_count": 5,
   "metadata": {},
   "outputs": [
    {
     "name": "stdout",
     "output_type": "stream",
     "text": [
      "WARNING:tensorflow:From /usr/local/lib/python3.6/site-packages/tensorflow/python/util/deprecation.py:497: calling conv1d (from tensorflow.python.ops.nn_ops) with data_format=NHWC is deprecated and will be removed in a future version.\n",
      "Instructions for updating:\n",
      "`NHWC` for data_format is deprecated, use `NWC` instead\n"
     ]
    }
   ],
   "source": [
    "ops = {'train':{}, 'test': {}}\n",
    "\n",
    "X_train_batch, y_train_batch = iter_train.get_next()\n",
    "X_test_batch, y_test_batch = iter_test.get_next()\n",
    "\n",
    "logits_train_batch = forward(X_train_batch, reuse=False, is_training=True)\n",
    "ops['test']['logits'] = forward(X_test_batch, reuse=True, is_training=False)\n",
    "\n",
    "ops['train']['step'] = tf.Variable(0, trainable=False)\n",
    "ops['train']['lr'] = tf.train.exponential_decay(5e-3, ops['train']['step'], 1400, 0.2)\n",
    "\n",
    "ops['train']['loss'] = tf.reduce_mean(tf.nn.sparse_softmax_cross_entropy_with_logits(\n",
    "    logits=logits_train_batch, labels=y_train_batch))\n",
    "\n",
    "ops['train']['train_op'] = tf.train.AdamOptimizer(ops['train']['lr']).minimize(\n",
    "    ops['train']['loss'], global_step=ops['train']['step'])"
   ]
  },
  {
   "cell_type": "code",
   "execution_count": 6,
   "metadata": {},
   "outputs": [
    {
     "name": "stdout",
     "output_type": "stream",
     "text": [
      "Epoch 1 | Step 1 | Loss 0.825 | LR: 0.0050\n",
      "Epoch 1 | Step 50 | Loss 0.340 | LR: 0.0047\n",
      "Epoch 1 | Step 100 | Loss 0.383 | LR: 0.0045\n",
      "Epoch 1 | Step 150 | Loss 0.456 | LR: 0.0042\n",
      "Epoch 1 | Step 200 | Loss 0.312 | LR: 0.0040\n",
      "Epoch 1 | Step 250 | Loss 0.299 | LR: 0.0038\n",
      "Epoch 1 | Step 300 | Loss 0.357 | LR: 0.0035\n",
      "Epoch 1 | Step 350 | Loss 0.280 | LR: 0.0033\n",
      "Epoch 1 | Step 400 | Loss 0.153 | LR: 0.0032\n",
      "Epoch 1 | Step 450 | Loss 0.193 | LR: 0.0030\n",
      "Epoch 1 | Step 500 | Loss 0.458 | LR: 0.0028\n",
      "Epoch 1 | Step 550 | Loss 0.412 | LR: 0.0027\n",
      "Epoch 1 | Step 600 | Loss 0.246 | LR: 0.0025\n",
      "Epoch 1 | Step 650 | Loss 0.296 | LR: 0.0024\n",
      "Epoch 1 | Step 700 | Loss 0.177 | LR: 0.0022\n",
      "Epoch 1 | Step 750 | Loss 0.232 | LR: 0.0021\n",
      "Epoch 2 | Step 800 | Loss 0.145 | LR: 0.0020\n",
      "Epoch 2 | Step 850 | Loss 0.211 | LR: 0.0019\n",
      "Epoch 2 | Step 900 | Loss 0.136 | LR: 0.0018\n",
      "Epoch 2 | Step 950 | Loss 0.227 | LR: 0.0017\n",
      "Epoch 2 | Step 1000 | Loss 0.110 | LR: 0.0016\n",
      "Epoch 2 | Step 1050 | Loss 0.074 | LR: 0.0015\n",
      "Epoch 2 | Step 1100 | Loss 0.166 | LR: 0.0014\n",
      "Epoch 2 | Step 1150 | Loss 0.258 | LR: 0.0013\n",
      "Epoch 2 | Step 1200 | Loss 0.330 | LR: 0.0013\n",
      "Epoch 2 | Step 1250 | Loss 0.161 | LR: 0.0012\n",
      "Epoch 2 | Step 1300 | Loss 0.283 | LR: 0.0011\n",
      "Epoch 2 | Step 1350 | Loss 0.073 | LR: 0.0011\n",
      "Epoch 2 | Step 1400 | Loss 0.158 | LR: 0.0010\n",
      "Epoch 2 | Step 1450 | Loss 0.111 | LR: 0.0009\n",
      "Epoch 2 | Step 1500 | Loss 0.058 | LR: 0.0009\n"
     ]
    }
   ],
   "source": [
    "sess.run(tf.global_variables_initializer())\n",
    "for epoch in range(1, N_EPOCH+1):\n",
    "    while True:\n",
    "        try:\n",
    "            sess.run(ops['train']['train_op'])\n",
    "        except tf.errors.OutOfRangeError:\n",
    "            break\n",
    "        else:\n",
    "            step = sess.run(ops['train']['step'])\n",
    "            if step % DISPLAY_STEP == 0 or step == 1:\n",
    "                loss, lr = sess.run([ops['train']['loss'], ops['train']['lr']])\n",
    "                print(\"Epoch %d | Step %d | Loss %.3f | LR: %.4f\" % (epoch, step, loss, lr))\n",
    "    if epoch != N_EPOCH:\n",
    "        sess.run(iter_train.initializer, {X_tr_ph: X_train, y_tr_ph: y_train})"
   ]
  },
  {
   "cell_type": "code",
   "execution_count": 7,
   "metadata": {},
   "outputs": [
    {
     "name": "stdout",
     "output_type": "stream",
     "text": [
      "Accuracy: 0.8948\n",
      "             precision    recall  f1-score   support\n",
      "\n",
      "          0       0.91      0.88      0.89     12500\n",
      "          1       0.88      0.91      0.90     12500\n",
      "\n",
      "avg / total       0.90      0.89      0.89     25000\n",
      "\n"
     ]
    }
   ],
   "source": [
    "y_pred_li = []\n",
    "while True:\n",
    "    try:\n",
    "        y_pred_li.append(sess.run(ops['test']['logits']))\n",
    "    except tf.errors.OutOfRangeError:\n",
    "        break\n",
    "y_pred = np.argmax(np.vstack(y_pred_li), 1)\n",
    "print(\"Accuracy: %.4f\" % (y_pred==y_test).mean())\n",
    "print(classification_report(y_test, y_pred))"
   ]
  },
  {
   "cell_type": "code",
   "execution_count": null,
   "metadata": {},
   "outputs": [],
   "source": []
  }
 ],
 "metadata": {
  "kernelspec": {
   "display_name": "Python 3",
   "language": "python",
   "name": "python3"
  },
  "language_info": {
   "codemirror_mode": {
    "name": "ipython",
    "version": 3
   },
   "file_extension": ".py",
   "mimetype": "text/x-python",
   "name": "python",
   "nbconvert_exporter": "python",
   "pygments_lexer": "ipython3",
   "version": "3.6.3"
  }
 },
 "nbformat": 4,
 "nbformat_minor": 2
}
