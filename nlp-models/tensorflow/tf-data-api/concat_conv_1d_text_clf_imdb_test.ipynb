{
 "cells": [
  {
   "cell_type": "code",
   "execution_count": 1,
   "metadata": {},
   "outputs": [],
   "source": [
    "import tensorflow as tf\n",
    "import numpy as np\n",
    "from sklearn.metrics import classification_report"
   ]
  },
  {
   "cell_type": "code",
   "execution_count": 2,
   "metadata": {},
   "outputs": [],
   "source": [
    "VOCAB_SIZE = 5000\n",
    "MAX_LEN = 400\n",
    "BATCH_SIZE = 32\n",
    "EMBED_DIM = 50\n",
    "FILTERS = 250\n",
    "N_CLASS = 2\n",
    "N_EPOCH = 2\n",
    "DISPLAY_STEP = 50"
   ]
  },
  {
   "cell_type": "code",
   "execution_count": 3,
   "metadata": {},
   "outputs": [],
   "source": [
    "(X_train, y_train), (X_test, y_test) = tf.keras.datasets.imdb.load_data(num_words=VOCAB_SIZE)\n",
    "X_train = tf.keras.preprocessing.sequence.pad_sequences(X_train, maxlen=MAX_LEN)\n",
    "X_test = tf.keras.preprocessing.sequence.pad_sequences(X_test, maxlen=MAX_LEN)"
   ]
  },
  {
   "cell_type": "code",
   "execution_count": 4,
   "metadata": {},
   "outputs": [],
   "source": [
    "def pipeline(mode):\n",
    "    if mode == tf.estimator.ModeKeys.TRAIN:\n",
    "        dataset = tf.data.Dataset.from_tensor_slices((X_train, y_train))\n",
    "        dataset = dataset.batch(BATCH_SIZE).repeat(N_EPOCH)\n",
    "    if mode == tf.estimator.ModeKeys.PREDICT:\n",
    "        dataset = tf.data.Dataset.from_tensor_slices(X_test)\n",
    "        dataset = dataset.batch(BATCH_SIZE)\n",
    "    iterator = dataset.make_one_shot_iterator()\n",
    "    return iterator"
   ]
  },
  {
   "cell_type": "code",
   "execution_count": 5,
   "metadata": {},
   "outputs": [],
   "source": [
    "def forward(x, reuse, is_training):\n",
    "    with tf.variable_scope('model', reuse=reuse):\n",
    "        x = tf.contrib.layers.embed_sequence(x, VOCAB_SIZE, EMBED_DIM)\n",
    "        x = tf.layers.dropout(x, 0.2, training=is_training)\n",
    "        feat_map = []\n",
    "        for k_size in [3, 4, 5]:\n",
    "            _x = tf.layers.conv1d(x, FILTERS, k_size, activation=tf.nn.relu)\n",
    "            _x = tf.layers.max_pooling1d(_x, _x.get_shape().as_list()[1], 1)\n",
    "            _x = tf.reshape(_x, (tf.shape(x)[0], FILTERS))\n",
    "            feat_map.append(_x)\n",
    "        x = tf.concat(feat_map, -1)\n",
    "        x = tf.layers.dense(x, FILTERS, tf.nn.relu)\n",
    "        logits = tf.layers.dense(x, N_CLASS)\n",
    "    return logits"
   ]
  },
  {
   "cell_type": "code",
   "execution_count": 6,
   "metadata": {},
   "outputs": [
    {
     "name": "stdout",
     "output_type": "stream",
     "text": [
      "WARNING:tensorflow:From /usr/local/lib/python3.6/site-packages/tensorflow/python/util/deprecation.py:497: calling conv1d (from tensorflow.python.ops.nn_ops) with data_format=NHWC is deprecated and will be removed in a future version.\n",
      "Instructions for updating:\n",
      "`NHWC` for data_format is deprecated, use `NWC` instead\n"
     ]
    }
   ],
   "source": [
    "ops = {}\n",
    "\n",
    "X_train_batch, y_train_batch = pipeline('train').get_next()\n",
    "\n",
    "logits_train_batch = forward(X_train_batch, reuse=False, is_training=True)\n",
    "\n",
    "ops['global_step'] = tf.Variable(0, trainable=False)\n",
    "\n",
    "ops['lr'] = tf.train.exponential_decay(5e-3, ops['global_step'], 1400, 0.2)\n",
    "\n",
    "ops['loss'] = tf.reduce_mean(tf.nn.sparse_softmax_cross_entropy_with_logits(\n",
    "    logits=logits_train_batch, labels=y_train_batch))\n",
    "\n",
    "ops['train'] = tf.train.AdamOptimizer(ops['lr']).minimize(\n",
    "    ops['loss'], global_step=ops['global_step'])"
   ]
  },
  {
   "cell_type": "code",
   "execution_count": 7,
   "metadata": {},
   "outputs": [
    {
     "name": "stdout",
     "output_type": "stream",
     "text": [
      "Step 1 | Loss 0.767 | LR: 0.0050\n",
      "Step 50 | Loss 0.413 | LR: 0.0047\n",
      "Step 100 | Loss 0.567 | LR: 0.0045\n",
      "Step 150 | Loss 0.567 | LR: 0.0042\n",
      "Step 200 | Loss 0.344 | LR: 0.0040\n",
      "Step 250 | Loss 0.410 | LR: 0.0038\n",
      "Step 300 | Loss 0.378 | LR: 0.0035\n",
      "Step 350 | Loss 0.244 | LR: 0.0033\n",
      "Step 400 | Loss 0.210 | LR: 0.0032\n",
      "Step 450 | Loss 0.130 | LR: 0.0030\n",
      "Step 500 | Loss 0.403 | LR: 0.0028\n",
      "Step 550 | Loss 0.387 | LR: 0.0027\n",
      "Step 600 | Loss 0.242 | LR: 0.0025\n",
      "Step 650 | Loss 0.306 | LR: 0.0024\n",
      "Step 700 | Loss 0.200 | LR: 0.0022\n",
      "Step 750 | Loss 0.248 | LR: 0.0021\n",
      "Step 800 | Loss 0.154 | LR: 0.0020\n",
      "Step 850 | Loss 0.232 | LR: 0.0019\n",
      "Step 900 | Loss 0.118 | LR: 0.0018\n",
      "Step 950 | Loss 0.206 | LR: 0.0017\n",
      "Step 1000 | Loss 0.148 | LR: 0.0016\n",
      "Step 1050 | Loss 0.121 | LR: 0.0015\n",
      "Step 1100 | Loss 0.186 | LR: 0.0014\n",
      "Step 1150 | Loss 0.219 | LR: 0.0013\n",
      "Step 1200 | Loss 0.327 | LR: 0.0013\n",
      "Step 1250 | Loss 0.105 | LR: 0.0012\n",
      "Step 1300 | Loss 0.226 | LR: 0.0011\n",
      "Step 1350 | Loss 0.208 | LR: 0.0011\n",
      "Step 1400 | Loss 0.072 | LR: 0.0010\n",
      "Step 1450 | Loss 0.149 | LR: 0.0009\n",
      "Step 1500 | Loss 0.092 | LR: 0.0009\n"
     ]
    }
   ],
   "source": [
    "sess = tf.Session()\n",
    "sess.run(tf.global_variables_initializer())\n",
    "while True:\n",
    "    try:\n",
    "        sess.run(ops['train'])\n",
    "    except tf.errors.OutOfRangeError:\n",
    "        break\n",
    "    else:\n",
    "        step = sess.run(ops['global_step'])\n",
    "        if step % DISPLAY_STEP == 0 or step == 1:\n",
    "            loss, lr = sess.run([ops['loss'], ops['lr']])\n",
    "            print(\"Step %d | Loss %.3f | LR: %.4f\" % (step, loss, lr))"
   ]
  },
  {
   "cell_type": "code",
   "execution_count": 8,
   "metadata": {},
   "outputs": [],
   "source": [
    "ops['predict'] = forward(pipeline('infer').get_next(), reuse=True, is_training=False)"
   ]
  },
  {
   "cell_type": "code",
   "execution_count": 9,
   "metadata": {},
   "outputs": [
    {
     "name": "stdout",
     "output_type": "stream",
     "text": [
      "Accuracy: 0.8952\n",
      "             precision    recall  f1-score   support\n",
      "\n",
      "          0       0.92      0.87      0.89     12500\n",
      "          1       0.88      0.92      0.90     12500\n",
      "\n",
      "avg / total       0.90      0.90      0.90     25000\n",
      "\n"
     ]
    }
   ],
   "source": [
    "y_pred_li = []\n",
    "while True:\n",
    "    try:\n",
    "        y_pred_li.append(sess.run(ops['predict']))\n",
    "    except tf.errors.OutOfRangeError:\n",
    "        break\n",
    "y_pred = np.argmax(np.vstack(y_pred_li), 1)\n",
    "print(\"Accuracy: %.4f\" % (y_pred==y_test).mean())\n",
    "print(classification_report(y_test, y_pred))"
   ]
  },
  {
   "cell_type": "code",
   "execution_count": null,
   "metadata": {},
   "outputs": [],
   "source": []
  }
 ],
 "metadata": {
  "kernelspec": {
   "display_name": "Python 3",
   "language": "python",
   "name": "python3"
  },
  "language_info": {
   "codemirror_mode": {
    "name": "ipython",
    "version": 3
   },
   "file_extension": ".py",
   "mimetype": "text/x-python",
   "name": "python",
   "nbconvert_exporter": "python",
   "pygments_lexer": "ipython3",
   "version": "3.6.3"
  }
 },
 "nbformat": 4,
 "nbformat_minor": 2
}
