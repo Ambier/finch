{
 "cells": [
  {
   "cell_type": "code",
   "execution_count": 1,
   "metadata": {},
   "outputs": [],
   "source": [
    "import chseg\n",
    "import numpy as np\n",
    "import tensorflow as tf\n",
    "\n",
    "from sklearn.metrics import classification_report"
   ]
  },
  {
   "cell_type": "code",
   "execution_count": 2,
   "metadata": {},
   "outputs": [],
   "source": [
    "params = {\n",
    "    'seq_len': 50,\n",
    "    'text_iter_step': 500,\n",
    "    'batch_size': 128,\n",
    "    'n_class': 4,\n",
    "    'hidden_dim': 128,\n",
    "    'clip_norm': 5.0,\n",
    "}"
   ]
  },
  {
   "cell_type": "code",
   "execution_count": 3,
   "metadata": {},
   "outputs": [],
   "source": [
    "def to_test_seq(*args):\n",
    "    return [x[:(len(x)-len(x)%params['seq_len'])].reshape([-1,params['seq_len']]) for x in args]\n",
    "\n",
    "def next_train_batch(x_train, y_train):\n",
    "    window = params['batch_size'] * params['seq_len']\n",
    "    for i in range(0, len(x_train)-window, params['text_iter_step']):\n",
    "        yield (x_train[i: i+window].reshape(params['batch_size'], params['seq_len']),\n",
    "               y_train[i: i+window].reshape(params['batch_size'], params['seq_len']),)\n",
    "        \n",
    "def train_input_fn(x_train, y_train):\n",
    "    dataset = tf.data.Dataset.from_generator(\n",
    "        lambda: next_train_batch(x_train, y_train),\n",
    "        (tf.int32, tf.int32),\n",
    "        (tf.TensorShape([None,params['seq_len']]), tf.TensorShape([None,params['seq_len']])))\n",
    "    iterator = dataset.make_one_shot_iterator()\n",
    "    return iterator.get_next()"
   ]
  },
  {
   "cell_type": "code",
   "execution_count": 4,
   "metadata": {},
   "outputs": [],
   "source": [
    "x_train, y_train, x_test, y_test, params['vocab_size'], word2idx, idx2word = chseg.load_data()\n",
    "x_train, y_train, x_test, y_test = np.array(x_train), np.array(y_train), np.array(x_test), np.array(y_test)\n",
    "X_test, Y_test = to_test_seq(x_test, y_test)"
   ]
  },
  {
   "cell_type": "code",
   "execution_count": 5,
   "metadata": {},
   "outputs": [],
   "source": [
    "def rnn_cell():\n",
    "    return tf.nn.rnn_cell.GRUCell(params['hidden_dim'], kernel_initializer=tf.orthogonal_initializer())\n",
    "\n",
    "def clip_grads(loss):\n",
    "    variables = tf.trainable_variables()\n",
    "    grads = tf.gradients(loss, variables)\n",
    "    clipped_grads, _ = tf.clip_by_global_norm(grads, params['clip_norm'])\n",
    "    return zip(clipped_grads, variables)\n",
    "\n",
    "def forward(x, reuse, is_training):\n",
    "    with tf.variable_scope('model', reuse=reuse):\n",
    "        x = tf.contrib.layers.embed_sequence(x, params['vocab_size'], params['hidden_dim'])\n",
    "        x = tf.layers.dropout(x, 0.1, training=is_training)\n",
    "        bi_outputs, _ = tf.nn.bidirectional_dynamic_rnn(\n",
    "            rnn_cell(), rnn_cell(), x, dtype=tf.float32)\n",
    "        x = tf.concat(bi_outputs, -1)\n",
    "        logits = tf.layers.dense(x, params['n_class'])\n",
    "    return logits\n",
    "\n",
    "def model_fn(features, labels, mode, params):\n",
    "    logits_tr = forward(features, reuse=False, is_training=True)\n",
    "    logits_te = forward(features, reuse=True, is_training=False)\n",
    "    seq_lens = tf.count_nonzero(features, 1)\n",
    "    \n",
    "    if mode == tf.estimator.ModeKeys.TRAIN:\n",
    "        log_likelihood, _ = tf.contrib.crf.crf_log_likelihood(\n",
    "            logits_tr, labels, seq_lens)\n",
    "        \n",
    "        loss_op = tf.reduce_mean(-log_likelihood)\n",
    "        \n",
    "        train_op = tf.train.AdamOptimizer().apply_gradients(\n",
    "            clip_grads(loss_op), global_step=tf.train.get_global_step())\n",
    "        \n",
    "        return tf.estimator.EstimatorSpec(\n",
    "            mode=mode, loss=loss_op, train_op=train_op)\n",
    "    \n",
    "    if mode == tf.estimator.ModeKeys.PREDICT:\n",
    "        trans_params = tf.get_variable('transitions', [params['n_class'], params['n_class']])\n",
    "        \n",
    "        viterbi_seq, _ = tf.contrib.crf.crf_decode(\n",
    "            logits_te, trans_params, seq_lens)\n",
    "        \n",
    "        return tf.estimator.EstimatorSpec(mode, predictions=viterbi_seq)"
   ]
  },
  {
   "cell_type": "code",
   "execution_count": 6,
   "metadata": {},
   "outputs": [
    {
     "name": "stdout",
     "output_type": "stream",
     "text": [
      "INFO:tensorflow:Using default config.\n",
      "WARNING:tensorflow:Using temporary folder as model directory: /var/folders/sx/fv0r97j96fz8njp14dt5g7940000gn/T/tmp1o_9lpdf\n",
      "INFO:tensorflow:Using config: {'_model_dir': '/var/folders/sx/fv0r97j96fz8njp14dt5g7940000gn/T/tmp1o_9lpdf', '_tf_random_seed': None, '_save_summary_steps': 100, '_save_checkpoints_steps': None, '_save_checkpoints_secs': 600, '_session_config': None, '_keep_checkpoint_max': 5, '_keep_checkpoint_every_n_hours': 10000, '_log_step_count_steps': 100, '_service': None, '_cluster_spec': <tensorflow.python.training.server_lib.ClusterSpec object at 0x11f67f6d8>, '_task_type': 'worker', '_task_id': 0, '_global_id_in_cluster': 0, '_master': '', '_evaluation_master': '', '_is_chief': True, '_num_ps_replicas': 0, '_num_worker_replicas': 1}\n",
      "INFO:tensorflow:Calling model_fn.\n"
     ]
    },
    {
     "name": "stderr",
     "output_type": "stream",
     "text": [
      "/usr/local/lib/python3.6/site-packages/tensorflow/python/ops/gradients_impl.py:98: UserWarning: Converting sparse IndexedSlices to a dense Tensor of unknown shape. This may consume a large amount of memory.\n",
      "  \"Converting sparse IndexedSlices to a dense Tensor of unknown shape. \"\n"
     ]
    },
    {
     "name": "stdout",
     "output_type": "stream",
     "text": [
      "INFO:tensorflow:Done calling model_fn.\n",
      "INFO:tensorflow:Create CheckpointSaverHook.\n",
      "INFO:tensorflow:Graph was finalized.\n",
      "INFO:tensorflow:Running local_init_op.\n",
      "INFO:tensorflow:Done running local_init_op.\n",
      "INFO:tensorflow:Saving checkpoints for 1 into /var/folders/sx/fv0r97j96fz8njp14dt5g7940000gn/T/tmp1o_9lpdf/model.ckpt.\n",
      "INFO:tensorflow:loss = 75.13945, step = 1\n",
      "INFO:tensorflow:global_step/sec: 5.45225\n",
      "INFO:tensorflow:loss = 21.873512, step = 101 (18.342 sec)\n",
      "INFO:tensorflow:global_step/sec: 5.27199\n",
      "INFO:tensorflow:loss = 20.504648, step = 201 (18.968 sec)\n",
      "INFO:tensorflow:global_step/sec: 5.2782\n",
      "INFO:tensorflow:loss = 13.987061, step = 301 (18.946 sec)\n",
      "INFO:tensorflow:global_step/sec: 5.27137\n",
      "INFO:tensorflow:loss = 13.992191, step = 401 (18.970 sec)\n",
      "INFO:tensorflow:global_step/sec: 5.22738\n",
      "INFO:tensorflow:loss = 15.403253, step = 501 (19.130 sec)\n",
      "INFO:tensorflow:global_step/sec: 5.4369\n",
      "INFO:tensorflow:loss = 14.772288, step = 601 (18.393 sec)\n",
      "INFO:tensorflow:global_step/sec: 5.47501\n",
      "INFO:tensorflow:loss = 7.828151, step = 701 (18.265 sec)\n",
      "INFO:tensorflow:global_step/sec: 5.38374\n",
      "INFO:tensorflow:loss = 10.445763, step = 801 (18.574 sec)\n",
      "INFO:tensorflow:global_step/sec: 5.38035\n",
      "INFO:tensorflow:loss = 10.407859, step = 901 (18.586 sec)\n",
      "INFO:tensorflow:global_step/sec: 5.53563\n",
      "INFO:tensorflow:loss = 7.5277863, step = 1001 (18.065 sec)\n",
      "INFO:tensorflow:global_step/sec: 5.45942\n",
      "INFO:tensorflow:loss = 7.644068, step = 1101 (18.317 sec)\n",
      "INFO:tensorflow:global_step/sec: 5.33412\n",
      "INFO:tensorflow:loss = 7.477343, step = 1201 (18.747 sec)\n",
      "INFO:tensorflow:global_step/sec: 5.26607\n",
      "INFO:tensorflow:loss = 4.8640966, step = 1301 (18.990 sec)\n",
      "INFO:tensorflow:global_step/sec: 5.40443\n",
      "INFO:tensorflow:loss = 9.195103, step = 1401 (18.503 sec)\n",
      "INFO:tensorflow:global_step/sec: 5.29002\n",
      "INFO:tensorflow:loss = 5.585332, step = 1501 (18.904 sec)\n",
      "INFO:tensorflow:global_step/sec: 5.31229\n",
      "INFO:tensorflow:loss = 5.8379545, step = 1601 (18.824 sec)\n",
      "INFO:tensorflow:global_step/sec: 5.49038\n",
      "INFO:tensorflow:loss = 4.863239, step = 1701 (18.213 sec)\n",
      "INFO:tensorflow:global_step/sec: 5.11823\n",
      "INFO:tensorflow:loss = 5.7049556, step = 1801 (19.538 sec)\n",
      "INFO:tensorflow:global_step/sec: 5.05741\n",
      "INFO:tensorflow:loss = 4.2584114, step = 1901 (19.773 sec)\n",
      "INFO:tensorflow:global_step/sec: 5.1633\n",
      "INFO:tensorflow:loss = 4.7258644, step = 2001 (19.367 sec)\n",
      "INFO:tensorflow:global_step/sec: 5.29294\n",
      "INFO:tensorflow:loss = 4.1779103, step = 2101 (18.893 sec)\n",
      "INFO:tensorflow:global_step/sec: 5.33244\n",
      "INFO:tensorflow:loss = 7.314151, step = 2201 (18.753 sec)\n",
      "INFO:tensorflow:global_step/sec: 5.09712\n",
      "INFO:tensorflow:loss = 4.3800774, step = 2301 (19.619 sec)\n",
      "INFO:tensorflow:global_step/sec: 5.11642\n",
      "INFO:tensorflow:loss = 4.529374, step = 2401 (19.545 sec)\n",
      "INFO:tensorflow:global_step/sec: 5.26082\n",
      "INFO:tensorflow:loss = 5.73005, step = 2501 (19.009 sec)\n",
      "INFO:tensorflow:global_step/sec: 5.41699\n",
      "INFO:tensorflow:loss = 6.3299017, step = 2601 (18.460 sec)\n",
      "INFO:tensorflow:global_step/sec: 5.23587\n",
      "INFO:tensorflow:loss = 5.3679895, step = 2701 (19.100 sec)\n",
      "INFO:tensorflow:global_step/sec: 5.09058\n",
      "INFO:tensorflow:loss = 9.327932, step = 2801 (19.644 sec)\n",
      "INFO:tensorflow:global_step/sec: 5.13251\n",
      "INFO:tensorflow:loss = 4.3240685, step = 2901 (19.484 sec)\n",
      "INFO:tensorflow:Saving checkpoints for 2912 into /var/folders/sx/fv0r97j96fz8njp14dt5g7940000gn/T/tmp1o_9lpdf/model.ckpt.\n",
      "INFO:tensorflow:Loss for final step: 3.5933623.\n",
      "INFO:tensorflow:Calling model_fn.\n",
      "INFO:tensorflow:Done calling model_fn.\n",
      "INFO:tensorflow:Graph was finalized.\n",
      "INFO:tensorflow:Restoring parameters from /var/folders/sx/fv0r97j96fz8njp14dt5g7940000gn/T/tmp1o_9lpdf/model.ckpt-2912\n",
      "INFO:tensorflow:Running local_init_op.\n",
      "INFO:tensorflow:Done running local_init_op.\n"
     ]
    }
   ],
   "source": [
    "estimator = tf.estimator.Estimator(model_fn, params=params)\n",
    "\n",
    "estimator.train(lambda: train_input_fn(x_train, y_train))\n",
    "\n",
    "Y_pred = np.concatenate(list(estimator.predict(\n",
    "    tf.estimator.inputs.numpy_input_fn(\n",
    "        x = X_test,\n",
    "        batch_size = params['batch_size'],\n",
    "        shuffle = False))), -1)"
   ]
  },
  {
   "cell_type": "code",
   "execution_count": 7,
   "metadata": {},
   "outputs": [
    {
     "name": "stdout",
     "output_type": "stream",
     "text": [
      "             precision    recall  f1-score   support\n",
      "\n",
      "          B       0.91      0.94      0.92    116058\n",
      "          M       0.82      0.71      0.76     25425\n",
      "          E       0.91      0.94      0.93    116057\n",
      "          S       0.93      0.89      0.91    106810\n",
      "\n",
      "avg / total       0.91      0.91      0.91    364350\n",
      "\n",
      "INFO:tensorflow:Calling model_fn.\n",
      "INFO:tensorflow:Done calling model_fn.\n",
      "INFO:tensorflow:Graph was finalized.\n",
      "INFO:tensorflow:Restoring parameters from /var/folders/sx/fv0r97j96fz8njp14dt5g7940000gn/T/tmp1o_9lpdf/model.ckpt-2912\n",
      "INFO:tensorflow:Running local_init_op.\n",
      "INFO:tensorflow:Done running local_init_op.\n",
      "我来 到 大学 读书 ， 希望学 到 知识\n"
     ]
    }
   ],
   "source": [
    "print(classification_report(Y_test.ravel(), Y_pred.ravel(), target_names=['B','M','E','S']))\n",
    "\n",
    "sample = '我来到大学读书，希望学到知识'\n",
    "labels = list(estimator.predict(\n",
    "    tf.estimator.inputs.numpy_input_fn(\n",
    "        x = np.atleast_2d([word2idx[w] for w in sample] + [0]*(params['seq_len']-len(sample))),\n",
    "        shuffle = False)))[0]\n",
    "\n",
    "labels = labels[:len(sample)]\n",
    "res = ''\n",
    "for i, l in enumerate(labels):\n",
    "    c = sample[i]\n",
    "    if l == 2 or l == 3:\n",
    "        c += ' '\n",
    "    res += c\n",
    "print(res)"
   ]
  },
  {
   "cell_type": "code",
   "execution_count": null,
   "metadata": {},
   "outputs": [],
   "source": []
  }
 ],
 "metadata": {
  "kernelspec": {
   "display_name": "Python 3",
   "language": "python",
   "name": "python3"
  },
  "language_info": {
   "codemirror_mode": {
    "name": "ipython",
    "version": 3
   },
   "file_extension": ".py",
   "mimetype": "text/x-python",
   "name": "python",
   "nbconvert_exporter": "python",
   "pygments_lexer": "ipython3",
   "version": "3.6.3"
  }
 },
 "nbformat": 4,
 "nbformat_minor": 2
}
