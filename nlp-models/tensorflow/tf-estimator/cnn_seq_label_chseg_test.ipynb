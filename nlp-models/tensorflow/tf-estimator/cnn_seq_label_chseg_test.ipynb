{
 "cells": [
  {
   "cell_type": "code",
   "execution_count": 1,
   "metadata": {},
   "outputs": [],
   "source": [
    "import chseg\n",
    "import numpy as np\n",
    "import tensorflow as tf\n",
    "\n",
    "from sklearn.metrics import classification_report"
   ]
  },
  {
   "cell_type": "code",
   "execution_count": 2,
   "metadata": {},
   "outputs": [],
   "source": [
    "params = {\n",
    "    'seq_len': 50,\n",
    "    'batch_size': 128,\n",
    "    'n_class': 4,\n",
    "    'hidden_dim': 128,\n",
    "    'lr': {'start': 5e-3, 'end': 5e-4}\n",
    "}"
   ]
  },
  {
   "cell_type": "code",
   "execution_count": 3,
   "metadata": {},
   "outputs": [],
   "source": [
    "def to_test_seq(*args):\n",
    "    return [np.reshape(x[:(len(x)-len(x)%params['seq_len'])], [-1,params['seq_len']]) for x in args]\n",
    "\n",
    "def iter_seq(x, text_iter_step=10):\n",
    "    return np.array([x[i: i+params['seq_len']] for i in range(0, len(x)-params['seq_len'], text_iter_step)])\n",
    "\n",
    "def to_train_seq(*args):\n",
    "    return [iter_seq(x) for x in args]"
   ]
  },
  {
   "cell_type": "code",
   "execution_count": 4,
   "metadata": {},
   "outputs": [],
   "source": [
    "def forward(x, reuse, is_training):\n",
    "    with tf.variable_scope('model', reuse=reuse):\n",
    "        x = tf.contrib.layers.embed_sequence(x, params['vocab_size'], params['hidden_dim'])\n",
    "        x = tf.layers.dropout(x, 0.1, training=is_training)\n",
    "        \n",
    "        pad = tf.zeros([tf.shape(x)[0], 1, params['hidden_dim']])\n",
    "        for k_sz in [3, 5, 7]:\n",
    "            n = (k_sz - 1) // 2\n",
    "            _x = tf.concat([pad]*n + [x] + [pad]*n, 1)\n",
    "            x += tf.layers.conv1d(_x, params['hidden_dim'], k_sz, activation=tf.nn.relu)\n",
    "\n",
    "        logits = tf.layers.dense(x, params['n_class'])\n",
    "    return logits\n",
    "\n",
    "\n",
    "def model_fn(features, labels, mode, params):\n",
    "    logits_tr = forward(features, reuse=False, is_training=True)\n",
    "    logits_te = forward(features, reuse=True, is_training=False)\n",
    "    seq_lens = tf.count_nonzero(features, 1)\n",
    "    \n",
    "    if mode == tf.estimator.ModeKeys.TRAIN:\n",
    "        log_likelihood, _ = tf.contrib.crf.crf_log_likelihood(\n",
    "            logits_tr, labels, seq_lens)\n",
    "        \n",
    "        loss_op = tf.reduce_mean(-log_likelihood)\n",
    "        \n",
    "        global_step=tf.train.get_global_step()\n",
    "        \n",
    "        lr_op = tf.train.exponential_decay(\n",
    "            params['lr']['start'], global_step, params['lr']['steps'],\n",
    "            params['lr']['end']/params['lr']['start'])\n",
    "        \n",
    "        train_op = tf.train.AdamOptimizer(lr_op).minimize(\n",
    "            loss_op, global_step=global_step)\n",
    "        \n",
    "        lth = tf.train.LoggingTensorHook({'lr': lr_op}, every_n_iter=100)\n",
    "        \n",
    "        return tf.estimator.EstimatorSpec(\n",
    "            mode=mode, loss=loss_op, train_op=train_op, training_hooks=[lth])\n",
    "    \n",
    "    if mode == tf.estimator.ModeKeys.PREDICT:\n",
    "        trans_params = tf.get_variable('transitions', [params['n_class'], params['n_class']])\n",
    "        \n",
    "        viterbi_seq, _ = tf.contrib.crf.crf_decode(\n",
    "            logits_te, trans_params, seq_lens)\n",
    "        \n",
    "        return tf.estimator.EstimatorSpec(mode, predictions=viterbi_seq)"
   ]
  },
  {
   "cell_type": "code",
   "execution_count": 5,
   "metadata": {},
   "outputs": [
    {
     "name": "stdout",
     "output_type": "stream",
     "text": [
      "INFO:tensorflow:Using default config.\n",
      "WARNING:tensorflow:Using temporary folder as model directory: /var/folders/sx/fv0r97j96fz8njp14dt5g7940000gn/T/tmpweosudzy\n",
      "INFO:tensorflow:Using config: {'_model_dir': '/var/folders/sx/fv0r97j96fz8njp14dt5g7940000gn/T/tmpweosudzy', '_tf_random_seed': None, '_save_summary_steps': 100, '_save_checkpoints_steps': None, '_save_checkpoints_secs': 600, '_session_config': None, '_keep_checkpoint_max': 5, '_keep_checkpoint_every_n_hours': 10000, '_log_step_count_steps': 100, '_service': None, '_cluster_spec': <tensorflow.python.training.server_lib.ClusterSpec object at 0x105fd9390>, '_task_type': 'worker', '_task_id': 0, '_global_id_in_cluster': 0, '_master': '', '_evaluation_master': '', '_is_chief': True, '_num_ps_replicas': 0, '_num_worker_replicas': 1}\n",
      "INFO:tensorflow:Calling model_fn.\n",
      "WARNING:tensorflow:From /usr/local/lib/python3.6/site-packages/tensorflow/python/util/deprecation.py:497: calling conv1d (from tensorflow.python.ops.nn_ops) with data_format=NHWC is deprecated and will be removed in a future version.\n",
      "Instructions for updating:\n",
      "`NHWC` for data_format is deprecated, use `NWC` instead\n"
     ]
    },
    {
     "name": "stderr",
     "output_type": "stream",
     "text": [
      "/usr/local/lib/python3.6/site-packages/tensorflow/python/ops/gradients_impl.py:98: UserWarning: Converting sparse IndexedSlices to a dense Tensor of unknown shape. This may consume a large amount of memory.\n",
      "  \"Converting sparse IndexedSlices to a dense Tensor of unknown shape. \"\n"
     ]
    },
    {
     "name": "stdout",
     "output_type": "stream",
     "text": [
      "INFO:tensorflow:Done calling model_fn.\n",
      "INFO:tensorflow:Create CheckpointSaverHook.\n",
      "INFO:tensorflow:Graph was finalized.\n",
      "INFO:tensorflow:Running local_init_op.\n",
      "INFO:tensorflow:Done running local_init_op.\n",
      "INFO:tensorflow:Saving checkpoints for 1 into /var/folders/sx/fv0r97j96fz8njp14dt5g7940000gn/T/tmpweosudzy/model.ckpt.\n",
      "INFO:tensorflow:loss = 63.178486, step = 1\n",
      "INFO:tensorflow:lr = 0.005\n",
      "INFO:tensorflow:global_step/sec: 6.99387\n",
      "INFO:tensorflow:loss = 14.743489, step = 101 (14.299 sec)\n",
      "INFO:tensorflow:lr = 0.004086997 (14.299 sec)\n",
      "INFO:tensorflow:global_step/sec: 7.29201\n",
      "INFO:tensorflow:loss = 7.803835, step = 201 (13.714 sec)\n",
      "INFO:tensorflow:lr = 0.0033407088 (13.714 sec)\n",
      "INFO:tensorflow:global_step/sec: 6.906\n",
      "INFO:tensorflow:loss = 9.585033, step = 301 (14.480 sec)\n",
      "INFO:tensorflow:lr = 0.0027306937 (14.480 sec)\n",
      "INFO:tensorflow:global_step/sec: 7.29136\n",
      "INFO:tensorflow:loss = 8.19083, step = 401 (13.715 sec)\n",
      "INFO:tensorflow:lr = 0.0022320673 (13.715 sec)\n",
      "INFO:tensorflow:global_step/sec: 7.34073\n",
      "INFO:tensorflow:loss = 5.2478137, step = 501 (13.623 sec)\n",
      "INFO:tensorflow:lr = 0.0018244907 (13.623 sec)\n",
      "INFO:tensorflow:global_step/sec: 7.17367\n",
      "INFO:tensorflow:loss = 4.4162707, step = 601 (13.940 sec)\n",
      "INFO:tensorflow:lr = 0.0014913377 (13.939 sec)\n",
      "INFO:tensorflow:global_step/sec: 7.34783\n",
      "INFO:tensorflow:loss = 5.090957, step = 701 (13.611 sec)\n",
      "INFO:tensorflow:lr = 0.0012190185 (13.612 sec)\n",
      "INFO:tensorflow:global_step/sec: 7.21675\n",
      "INFO:tensorflow:loss = 3.701796, step = 801 (13.855 sec)\n",
      "INFO:tensorflow:lr = 0.0009964249 (13.855 sec)\n",
      "INFO:tensorflow:global_step/sec: 7.36744\n",
      "INFO:tensorflow:loss = 7.052046, step = 901 (13.574 sec)\n",
      "INFO:tensorflow:lr = 0.0008144772 (13.574 sec)\n",
      "INFO:tensorflow:global_step/sec: 7.53984\n",
      "INFO:tensorflow:loss = 6.0107727, step = 1001 (13.262 sec)\n",
      "INFO:tensorflow:lr = 0.00066575326 (13.262 sec)\n",
      "INFO:tensorflow:global_step/sec: 7.49088\n",
      "INFO:tensorflow:loss = 3.8367188, step = 1101 (13.350 sec)\n",
      "INFO:tensorflow:lr = 0.0005441863 (13.350 sec)\n",
      "INFO:tensorflow:Saving checkpoints for 1143 into /var/folders/sx/fv0r97j96fz8njp14dt5g7940000gn/T/tmpweosudzy/model.ckpt.\n",
      "INFO:tensorflow:Loss for final step: 3.8435042.\n",
      "INFO:tensorflow:Calling model_fn.\n",
      "INFO:tensorflow:Done calling model_fn.\n",
      "INFO:tensorflow:Graph was finalized.\n",
      "INFO:tensorflow:Restoring parameters from /var/folders/sx/fv0r97j96fz8njp14dt5g7940000gn/T/tmpweosudzy/model.ckpt-1143\n",
      "INFO:tensorflow:Running local_init_op.\n",
      "INFO:tensorflow:Done running local_init_op.\n"
     ]
    }
   ],
   "source": [
    "x_train, y_train, x_test, y_test, params['vocab_size'], word2idx, idx2word = chseg.load_data()\n",
    "X_train, Y_train = to_train_seq(x_train, y_train)\n",
    "X_test, Y_test = to_test_seq(x_test, y_test)\n",
    "params['lr']['steps'] = len(X_train) // params['batch_size']\n",
    "\n",
    "estimator = tf.estimator.Estimator(model_fn, params=params)\n",
    "\n",
    "estimator.train(\n",
    "    tf.estimator.inputs.numpy_input_fn(\n",
    "        X_train, Y_train,\n",
    "        batch_size = params['batch_size'],\n",
    "        shuffle = True))\n",
    "\n",
    "Y_pred = np.concatenate(list(estimator.predict(\n",
    "    tf.estimator.inputs.numpy_input_fn(\n",
    "        X_test,\n",
    "        batch_size = params['batch_size'],\n",
    "        shuffle = False))), 0)"
   ]
  },
  {
   "cell_type": "code",
   "execution_count": 6,
   "metadata": {},
   "outputs": [
    {
     "name": "stdout",
     "output_type": "stream",
     "text": [
      "             precision    recall  f1-score   support\n",
      "\n",
      "          B       0.93      0.95      0.94    116058\n",
      "          M       0.85      0.80      0.82     25425\n",
      "          E       0.93      0.96      0.95    116057\n",
      "          S       0.95      0.91      0.93    106810\n",
      "\n",
      "avg / total       0.93      0.93      0.93    364350\n",
      "\n",
      "INFO:tensorflow:Calling model_fn.\n",
      "INFO:tensorflow:Done calling model_fn.\n",
      "INFO:tensorflow:Graph was finalized.\n",
      "INFO:tensorflow:Restoring parameters from /var/folders/sx/fv0r97j96fz8njp14dt5g7940000gn/T/tmpweosudzy/model.ckpt-1143\n",
      "INFO:tensorflow:Running local_init_op.\n",
      "INFO:tensorflow:Done running local_init_op.\n",
      "我 来到 大学 读书 ， 希望 学 到 知识\n"
     ]
    }
   ],
   "source": [
    "print(classification_report(Y_test.ravel(), Y_pred.ravel(), target_names=['B','M','E','S']))\n",
    "\n",
    "sample = '我来到大学读书，希望学到知识'\n",
    "labels = list(estimator.predict(\n",
    "    tf.estimator.inputs.numpy_input_fn(\n",
    "        np.atleast_2d([word2idx[w] for w in sample] + [0]*(params['seq_len']-len(sample))),\n",
    "        shuffle = False)))[0]\n",
    "\n",
    "labels = labels[:len(sample)]\n",
    "res = ''\n",
    "for i, l in enumerate(labels):\n",
    "    c = sample[i]\n",
    "    if l == 2 or l == 3:\n",
    "        c += ' '\n",
    "    res += c\n",
    "print(res)"
   ]
  },
  {
   "cell_type": "code",
   "execution_count": null,
   "metadata": {},
   "outputs": [],
   "source": []
  }
 ],
 "metadata": {
  "kernelspec": {
   "display_name": "Python 3",
   "language": "python",
   "name": "python3"
  },
  "language_info": {
   "codemirror_mode": {
    "name": "ipython",
    "version": 3
   },
   "file_extension": ".py",
   "mimetype": "text/x-python",
   "name": "python",
   "nbconvert_exporter": "python",
   "pygments_lexer": "ipython3",
   "version": "3.6.3"
  }
 },
 "nbformat": 4,
 "nbformat_minor": 2
}
