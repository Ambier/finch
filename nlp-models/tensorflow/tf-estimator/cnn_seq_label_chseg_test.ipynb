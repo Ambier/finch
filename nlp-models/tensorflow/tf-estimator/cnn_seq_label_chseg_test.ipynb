{
 "cells": [
  {
   "cell_type": "code",
   "execution_count": 1,
   "metadata": {},
   "outputs": [],
   "source": [
    "import chseg\n",
    "import numpy as np\n",
    "import tensorflow as tf\n",
    "\n",
    "from sklearn.metrics import classification_report"
   ]
  },
  {
   "cell_type": "code",
   "execution_count": 2,
   "metadata": {},
   "outputs": [],
   "source": [
    "params = {\n",
    "    'seq_len': 50,\n",
    "    'text_iter_step': 500,\n",
    "    'batch_size': 128,\n",
    "    'n_class': 4,\n",
    "    'hidden_dim': 128,\n",
    "}"
   ]
  },
  {
   "cell_type": "code",
   "execution_count": 3,
   "metadata": {},
   "outputs": [],
   "source": [
    "def to_test_seq(*args):\n",
    "    return [x[:(len(x)-len(x)%params['seq_len'])].reshape([-1,params['seq_len']]) for x in args]\n",
    "\n",
    "def next_train_batch(x_train, y_train):\n",
    "    window = params['batch_size'] * params['seq_len']\n",
    "    for i in range(0, len(x_train)-window, params['text_iter_step']):\n",
    "        yield (x_train[i: i+window].reshape(params['batch_size'], params['seq_len']),\n",
    "               y_train[i: i+window].reshape(params['batch_size'], params['seq_len']),)\n",
    "        \n",
    "def train_input_fn(x_train, y_train):\n",
    "    dataset = tf.data.Dataset.from_generator(\n",
    "        lambda: next_train_batch(x_train, y_train),\n",
    "        (tf.int32, tf.int32),\n",
    "        (tf.TensorShape([None,params['seq_len']]), tf.TensorShape([None,params['seq_len']])))\n",
    "    iterator = dataset.make_one_shot_iterator()\n",
    "    return iterator.get_next()"
   ]
  },
  {
   "cell_type": "code",
   "execution_count": 4,
   "metadata": {},
   "outputs": [],
   "source": [
    "x_train, y_train, x_test, y_test, params['vocab_size'], word2idx, idx2word = chseg.load_data()\n",
    "x_train, y_train, x_test, y_test = np.array(x_train), np.array(y_train), np.array(x_test), np.array(y_test)\n",
    "X_test, Y_test = to_test_seq(x_test, y_test)"
   ]
  },
  {
   "cell_type": "code",
   "execution_count": 5,
   "metadata": {},
   "outputs": [],
   "source": [
    "def forward(x, reuse, is_training):\n",
    "    with tf.variable_scope('model', reuse=reuse):\n",
    "        x = tf.contrib.layers.embed_sequence(x, params['vocab_size'], params['hidden_dim'])\n",
    "        x = tf.layers.dropout(x, 0.1, training=is_training)\n",
    "        \n",
    "        pad = tf.zeros([tf.shape(x)[0], 1, params['hidden_dim']])\n",
    "        for k_sz in [3, 5, 7, 9, 11]:\n",
    "            n = (k_sz - 1) // 2\n",
    "            _x = tf.concat([pad]*n + [x] + [pad]*n, 1)\n",
    "            x += tf.layers.conv1d(_x, params['hidden_dim'], k_sz, activation=tf.nn.relu)\n",
    "\n",
    "        logits = tf.layers.dense(x, params['n_class'])\n",
    "    return logits\n",
    "\n",
    "\n",
    "def model_fn(features, labels, mode, params):\n",
    "    logits_tr = forward(features, reuse=False, is_training=True)\n",
    "    logits_te = forward(features, reuse=True, is_training=False)\n",
    "    seq_lens = tf.count_nonzero(features, 1)\n",
    "    \n",
    "    if mode == tf.estimator.ModeKeys.TRAIN:\n",
    "        log_likelihood, _ = tf.contrib.crf.crf_log_likelihood(\n",
    "            logits_tr, labels, seq_lens)\n",
    "        \n",
    "        loss_op = tf.reduce_mean(-log_likelihood)\n",
    "        \n",
    "        train_op = tf.train.AdamOptimizer().minimize(\n",
    "            loss_op, global_step=tf.train.get_global_step())\n",
    "        \n",
    "        return tf.estimator.EstimatorSpec(\n",
    "            mode=mode, loss=loss_op, train_op=train_op)\n",
    "    \n",
    "    if mode == tf.estimator.ModeKeys.PREDICT:\n",
    "        trans_params = tf.get_variable('transitions', [params['n_class'], params['n_class']])\n",
    "        \n",
    "        viterbi_seq, _ = tf.contrib.crf.crf_decode(\n",
    "            logits_te, trans_params, seq_lens)\n",
    "        \n",
    "        return tf.estimator.EstimatorSpec(mode, predictions=viterbi_seq)"
   ]
  },
  {
   "cell_type": "code",
   "execution_count": 6,
   "metadata": {},
   "outputs": [
    {
     "name": "stdout",
     "output_type": "stream",
     "text": [
      "INFO:tensorflow:Using default config.\n",
      "WARNING:tensorflow:Using temporary folder as model directory: /var/folders/sx/fv0r97j96fz8njp14dt5g7940000gn/T/tmp8o7rho2l\n",
      "INFO:tensorflow:Using config: {'_model_dir': '/var/folders/sx/fv0r97j96fz8njp14dt5g7940000gn/T/tmp8o7rho2l', '_tf_random_seed': None, '_save_summary_steps': 100, '_save_checkpoints_steps': None, '_save_checkpoints_secs': 600, '_session_config': None, '_keep_checkpoint_max': 5, '_keep_checkpoint_every_n_hours': 10000, '_log_step_count_steps': 100, '_service': None, '_cluster_spec': <tensorflow.python.training.server_lib.ClusterSpec object at 0x114b35390>, '_task_type': 'worker', '_task_id': 0, '_global_id_in_cluster': 0, '_master': '', '_evaluation_master': '', '_is_chief': True, '_num_ps_replicas': 0, '_num_worker_replicas': 1}\n",
      "INFO:tensorflow:Calling model_fn.\n",
      "WARNING:tensorflow:From /usr/local/lib/python3.6/site-packages/tensorflow/python/util/deprecation.py:497: calling conv1d (from tensorflow.python.ops.nn_ops) with data_format=NHWC is deprecated and will be removed in a future version.\n",
      "Instructions for updating:\n",
      "`NHWC` for data_format is deprecated, use `NWC` instead\n"
     ]
    },
    {
     "name": "stderr",
     "output_type": "stream",
     "text": [
      "/usr/local/lib/python3.6/site-packages/tensorflow/python/ops/gradients_impl.py:98: UserWarning: Converting sparse IndexedSlices to a dense Tensor of unknown shape. This may consume a large amount of memory.\n",
      "  \"Converting sparse IndexedSlices to a dense Tensor of unknown shape. \"\n"
     ]
    },
    {
     "name": "stdout",
     "output_type": "stream",
     "text": [
      "INFO:tensorflow:Done calling model_fn.\n",
      "INFO:tensorflow:Create CheckpointSaverHook.\n",
      "INFO:tensorflow:Graph was finalized.\n",
      "INFO:tensorflow:Running local_init_op.\n",
      "INFO:tensorflow:Done running local_init_op.\n",
      "INFO:tensorflow:Saving checkpoints for 1 into /var/folders/sx/fv0r97j96fz8njp14dt5g7940000gn/T/tmp8o7rho2l/model.ckpt.\n",
      "INFO:tensorflow:loss = 71.236336, step = 1\n",
      "INFO:tensorflow:global_step/sec: 3.91973\n",
      "INFO:tensorflow:loss = 15.272905, step = 101 (25.513 sec)\n",
      "INFO:tensorflow:global_step/sec: 3.87775\n",
      "INFO:tensorflow:loss = 13.346983, step = 201 (25.788 sec)\n",
      "INFO:tensorflow:global_step/sec: 3.57412\n",
      "INFO:tensorflow:loss = 9.473921, step = 301 (27.979 sec)\n",
      "INFO:tensorflow:global_step/sec: 3.82842\n",
      "INFO:tensorflow:loss = 9.3798485, step = 401 (26.120 sec)\n",
      "INFO:tensorflow:global_step/sec: 3.95771\n",
      "INFO:tensorflow:loss = 11.199088, step = 501 (25.267 sec)\n",
      "INFO:tensorflow:global_step/sec: 3.85074\n",
      "INFO:tensorflow:loss = 10.206051, step = 601 (25.969 sec)\n",
      "INFO:tensorflow:global_step/sec: 3.88912\n",
      "INFO:tensorflow:loss = 5.1921234, step = 701 (25.713 sec)\n",
      "INFO:tensorflow:global_step/sec: 3.97459\n",
      "INFO:tensorflow:loss = 6.983332, step = 801 (25.160 sec)\n",
      "INFO:tensorflow:global_step/sec: 3.77966\n",
      "INFO:tensorflow:loss = 6.8595047, step = 901 (26.458 sec)\n",
      "INFO:tensorflow:global_step/sec: 4.00014\n",
      "INFO:tensorflow:loss = 5.044922, step = 1001 (24.999 sec)\n",
      "INFO:tensorflow:global_step/sec: 3.80995\n",
      "INFO:tensorflow:loss = 4.883545, step = 1101 (26.247 sec)\n",
      "INFO:tensorflow:global_step/sec: 4.09322\n",
      "INFO:tensorflow:loss = 5.644353, step = 1201 (24.431 sec)\n",
      "INFO:tensorflow:global_step/sec: 4.06894\n",
      "INFO:tensorflow:loss = 3.4314544, step = 1301 (24.577 sec)\n",
      "INFO:tensorflow:global_step/sec: 3.96313\n",
      "INFO:tensorflow:loss = 6.123624, step = 1401 (25.232 sec)\n",
      "INFO:tensorflow:global_step/sec: 3.80155\n",
      "INFO:tensorflow:loss = 4.4337397, step = 1501 (26.305 sec)\n",
      "INFO:tensorflow:global_step/sec: 3.96992\n",
      "INFO:tensorflow:loss = 4.097073, step = 1601 (25.189 sec)\n",
      "INFO:tensorflow:global_step/sec: 3.85736\n",
      "INFO:tensorflow:loss = 3.8040905, step = 1701 (25.924 sec)\n",
      "INFO:tensorflow:global_step/sec: 4.02056\n",
      "INFO:tensorflow:loss = 3.9020436, step = 1801 (24.872 sec)\n",
      "INFO:tensorflow:global_step/sec: 4.03389\n",
      "INFO:tensorflow:loss = 3.1711228, step = 1901 (24.790 sec)\n",
      "INFO:tensorflow:global_step/sec: 4.10651\n",
      "INFO:tensorflow:loss = 3.0781195, step = 2001 (24.351 sec)\n",
      "INFO:tensorflow:global_step/sec: 3.97655\n",
      "INFO:tensorflow:loss = 2.4410775, step = 2101 (25.147 sec)\n",
      "INFO:tensorflow:global_step/sec: 3.89299\n",
      "INFO:tensorflow:loss = 5.8773274, step = 2201 (25.687 sec)\n",
      "INFO:tensorflow:global_step/sec: 4.13335\n",
      "INFO:tensorflow:loss = 2.6989899, step = 2301 (24.194 sec)\n",
      "INFO:tensorflow:Saving checkpoints for 2352 into /var/folders/sx/fv0r97j96fz8njp14dt5g7940000gn/T/tmp8o7rho2l/model.ckpt.\n",
      "INFO:tensorflow:global_step/sec: 3.7279\n",
      "INFO:tensorflow:loss = 2.8887138, step = 2401 (26.825 sec)\n",
      "INFO:tensorflow:global_step/sec: 3.85863\n",
      "INFO:tensorflow:loss = 3.953687, step = 2501 (25.916 sec)\n",
      "INFO:tensorflow:global_step/sec: 3.78179\n",
      "INFO:tensorflow:loss = 4.5243826, step = 2601 (26.443 sec)\n",
      "INFO:tensorflow:global_step/sec: 3.98186\n",
      "INFO:tensorflow:loss = 3.4215, step = 2701 (25.114 sec)\n",
      "INFO:tensorflow:global_step/sec: 4.07281\n",
      "INFO:tensorflow:loss = 7.3159018, step = 2801 (24.553 sec)\n",
      "INFO:tensorflow:global_step/sec: 4.06252\n",
      "INFO:tensorflow:loss = 3.194314, step = 2901 (24.615 sec)\n",
      "INFO:tensorflow:Saving checkpoints for 2912 into /var/folders/sx/fv0r97j96fz8njp14dt5g7940000gn/T/tmp8o7rho2l/model.ckpt.\n",
      "INFO:tensorflow:Loss for final step: 2.6351786.\n",
      "INFO:tensorflow:Calling model_fn.\n",
      "INFO:tensorflow:Done calling model_fn.\n",
      "INFO:tensorflow:Graph was finalized.\n",
      "INFO:tensorflow:Restoring parameters from /var/folders/sx/fv0r97j96fz8njp14dt5g7940000gn/T/tmp8o7rho2l/model.ckpt-2912\n",
      "INFO:tensorflow:Running local_init_op.\n",
      "INFO:tensorflow:Done running local_init_op.\n"
     ]
    }
   ],
   "source": [
    "estimator = tf.estimator.Estimator(model_fn, params=params)\n",
    "\n",
    "estimator.train(lambda: train_input_fn(x_train, y_train))\n",
    "\n",
    "Y_pred = np.concatenate(list(estimator.predict(\n",
    "    tf.estimator.inputs.numpy_input_fn(\n",
    "        x = X_test,\n",
    "        batch_size = params['batch_size'],\n",
    "        shuffle = False))), -1)"
   ]
  },
  {
   "cell_type": "code",
   "execution_count": 7,
   "metadata": {},
   "outputs": [
    {
     "name": "stdout",
     "output_type": "stream",
     "text": [
      "             precision    recall  f1-score   support\n",
      "\n",
      "          B       0.92      0.95      0.93    116058\n",
      "          M       0.84      0.76      0.80     25425\n",
      "          E       0.93      0.95      0.94    116057\n",
      "          S       0.93      0.90      0.92    106810\n",
      "\n",
      "avg / total       0.92      0.92      0.92    364350\n",
      "\n",
      "INFO:tensorflow:Calling model_fn.\n",
      "INFO:tensorflow:Done calling model_fn.\n",
      "INFO:tensorflow:Graph was finalized.\n",
      "INFO:tensorflow:Restoring parameters from /var/folders/sx/fv0r97j96fz8njp14dt5g7940000gn/T/tmp8o7rho2l/model.ckpt-2912\n",
      "INFO:tensorflow:Running local_init_op.\n",
      "INFO:tensorflow:Done running local_init_op.\n",
      "我 来到 大学 读书 ， 希望 学 到 知识\n"
     ]
    }
   ],
   "source": [
    "print(classification_report(Y_test.ravel(), Y_pred.ravel(), target_names=['B','M','E','S']))\n",
    "\n",
    "sample = '我来到大学读书，希望学到知识'\n",
    "labels = list(estimator.predict(\n",
    "    tf.estimator.inputs.numpy_input_fn(\n",
    "        x = np.atleast_2d([word2idx[w] for w in sample] + [0]*(params['seq_len']-len(sample))),\n",
    "        shuffle = False)))[0]\n",
    "\n",
    "labels = labels[:len(sample)]\n",
    "res = ''\n",
    "for i, l in enumerate(labels):\n",
    "    c = sample[i]\n",
    "    if l == 2 or l == 3:\n",
    "        c += ' '\n",
    "    res += c\n",
    "print(res)"
   ]
  },
  {
   "cell_type": "code",
   "execution_count": null,
   "metadata": {},
   "outputs": [],
   "source": []
  }
 ],
 "metadata": {
  "kernelspec": {
   "display_name": "Python 3",
   "language": "python",
   "name": "python3"
  },
  "language_info": {
   "codemirror_mode": {
    "name": "ipython",
    "version": 3
   },
   "file_extension": ".py",
   "mimetype": "text/x-python",
   "name": "python",
   "nbconvert_exporter": "python",
   "pygments_lexer": "ipython3",
   "version": "3.6.3"
  }
 },
 "nbformat": 4,
 "nbformat_minor": 2
}
