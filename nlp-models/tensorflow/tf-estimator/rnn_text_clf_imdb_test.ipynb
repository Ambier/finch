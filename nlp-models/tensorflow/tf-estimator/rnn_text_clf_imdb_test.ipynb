{
 "cells": [
  {
   "cell_type": "code",
   "execution_count": 1,
   "metadata": {},
   "outputs": [],
   "source": [
    "import tensorflow as tf\n",
    "import numpy as np\n",
    "from sklearn.metrics import classification_report\n",
    "\n",
    "tf.logging.set_verbosity(tf.logging.INFO)"
   ]
  },
  {
   "cell_type": "code",
   "execution_count": 2,
   "metadata": {},
   "outputs": [],
   "source": [
    "VOCAB_SIZE = 20000\n",
    "EMBED_DIM = 128\n",
    "RNN_SIZE = 128\n",
    "CLIP_NORM = 5.0\n",
    "BATCH_SIZE = 32\n",
    "DISPLAY_STEP = 50\n",
    "LR = {'start': 5e-3, 'end': 1e-3, 'steps': 1400}\n",
    "N_EPOCH = 2\n",
    "N_CLASS = 2"
   ]
  },
  {
   "cell_type": "code",
   "execution_count": 3,
   "metadata": {},
   "outputs": [],
   "source": [
    "def sort_by_len(x, y):\n",
    "    idx = sorted(range(len(x)), key=lambda i: len(x[i]))\n",
    "    return x[idx], y[idx]\n",
    "\n",
    "def pad_sentence_batch(sent_batch):\n",
    "    max_seq_len = max([len(sent) for sent in sent_batch])\n",
    "    padded_seqs = [(sent + [0]*(max_seq_len - len(sent))) for sent in sent_batch]\n",
    "    return padded_seqs\n",
    "\n",
    "def next_train_batch(X_train, y_train):\n",
    "    for i in range(0, len(X_train), BATCH_SIZE):\n",
    "        padded_seqs = pad_sentence_batch(X_train[i : i+BATCH_SIZE])\n",
    "        yield padded_seqs, y_train[i : i+BATCH_SIZE]\n",
    "        \n",
    "def next_test_batch(X_test):\n",
    "    for i in range(0, len(X_test), BATCH_SIZE):\n",
    "        padded_seqs = pad_sentence_batch(X_test[i : i+BATCH_SIZE])\n",
    "        yield padded_seqs\n",
    "        \n",
    "def train_input_fn(X_train, y_train):\n",
    "    dataset = tf.data.Dataset.from_generator(\n",
    "        lambda: next_train_batch(X_train, y_train),\n",
    "        (tf.int32, tf.int64),\n",
    "        (tf.TensorShape([None,None]), tf.TensorShape([None])))\n",
    "    dataset = dataset.repeat(N_EPOCH)\n",
    "    iterator = dataset.make_one_shot_iterator()\n",
    "    return iterator.get_next()\n",
    "\n",
    "def predict_input_fn(X_test):\n",
    "    dataset = tf.data.Dataset.from_generator(\n",
    "        lambda: next_test_batch(X_test),\n",
    "        tf.int32,\n",
    "        tf.TensorShape([None,None]))\n",
    "    iterator = dataset.make_one_shot_iterator()\n",
    "    return iterator.get_next()"
   ]
  },
  {
   "cell_type": "code",
   "execution_count": 4,
   "metadata": {},
   "outputs": [],
   "source": [
    "def rnn_cell():\n",
    "    return tf.nn.rnn_cell.GRUCell(RNN_SIZE//2, kernel_initializer=tf.orthogonal_initializer())\n",
    "\n",
    "def forward(inputs, reuse, is_training):\n",
    "    with tf.variable_scope('model', reuse=reuse):\n",
    "        x = tf.contrib.layers.embed_sequence(inputs, VOCAB_SIZE, EMBED_DIM)\n",
    "        \n",
    "        x = tf.layers.dropout(x, 0.2, training=is_training)\n",
    "        \n",
    "        _, bi_states = tf.nn.bidirectional_dynamic_rnn(\n",
    "            rnn_cell(), rnn_cell(), x, tf.count_nonzero(inputs, 1), dtype=tf.float32)\n",
    "        \n",
    "        x = tf.concat(bi_states, -1)\n",
    "        \n",
    "        logits = tf.layers.dense(x, N_CLASS)\n",
    "    return logits\n",
    "\n",
    "def clip_grads(loss):\n",
    "    params = tf.trainable_variables()\n",
    "    grads = tf.gradients(loss, params)\n",
    "    clipped_grads, _ = tf.clip_by_global_norm(grads, CLIP_NORM)\n",
    "    return zip(clipped_grads, params)\n",
    "\n",
    "def model_fn(features, labels, mode, params):\n",
    "    logits = forward(features, reuse=False, is_training=True)\n",
    "    preds = forward(features, reuse=True, is_training=False)\n",
    "    \n",
    "    if mode == tf.estimator.ModeKeys.PREDICT:\n",
    "        preds = tf.argmax(preds, -1)\n",
    "        return tf.estimator.EstimatorSpec(mode, predictions=preds)\n",
    "    \n",
    "    if mode == tf.estimator.ModeKeys.TRAIN:\n",
    "        global_step = tf.train.get_global_step()\n",
    "\n",
    "        lr_op = tf.train.exponential_decay(\n",
    "            LR['start'], global_step, LR['steps'], LR['end']/LR['start'])\n",
    "\n",
    "        loss_op = tf.reduce_mean(tf.nn.sparse_softmax_cross_entropy_with_logits(\n",
    "            logits=logits, labels=labels))\n",
    "\n",
    "        train_op = tf.train.AdamOptimizer(lr_op).apply_gradients(\n",
    "            clip_grads(loss_op), global_step=global_step)\n",
    "\n",
    "        lth = tf.train.LoggingTensorHook({'lr': lr_op}, every_n_iter=100)\n",
    "        \n",
    "        return tf.estimator.EstimatorSpec(\n",
    "            mode=mode, loss=loss_op, train_op=train_op, training_hooks=[lth])"
   ]
  },
  {
   "cell_type": "code",
   "execution_count": 5,
   "metadata": {},
   "outputs": [
    {
     "name": "stdout",
     "output_type": "stream",
     "text": [
      "INFO:tensorflow:Using default config.\n",
      "WARNING:tensorflow:Using temporary folder as model directory: /var/folders/sx/fv0r97j96fz8njp14dt5g7940000gn/T/tmp17gnoxor\n",
      "INFO:tensorflow:Using config: {'_model_dir': '/var/folders/sx/fv0r97j96fz8njp14dt5g7940000gn/T/tmp17gnoxor', '_tf_random_seed': None, '_save_summary_steps': 100, '_save_checkpoints_steps': None, '_save_checkpoints_secs': 600, '_session_config': None, '_keep_checkpoint_max': 5, '_keep_checkpoint_every_n_hours': 10000, '_log_step_count_steps': 100, '_service': None, '_cluster_spec': <tensorflow.python.training.server_lib.ClusterSpec object at 0x112859eb8>, '_task_type': 'worker', '_task_id': 0, '_global_id_in_cluster': 0, '_master': '', '_evaluation_master': '', '_is_chief': True, '_num_ps_replicas': 0, '_num_worker_replicas': 1}\n",
      "WARNING:tensorflow:Estimator's model_fn (<function model_fn at 0x112e69158>) includes params argument, but params are not passed to Estimator.\n",
      "INFO:tensorflow:Calling model_fn.\n",
      "INFO:tensorflow:Done calling model_fn.\n",
      "INFO:tensorflow:Create CheckpointSaverHook.\n",
      "INFO:tensorflow:Graph was finalized.\n",
      "INFO:tensorflow:Running local_init_op.\n",
      "INFO:tensorflow:Done running local_init_op.\n",
      "INFO:tensorflow:Saving checkpoints for 1 into /var/folders/sx/fv0r97j96fz8njp14dt5g7940000gn/T/tmp17gnoxor/model.ckpt.\n",
      "INFO:tensorflow:loss = 0.6934284, step = 1\n",
      "INFO:tensorflow:lr = 0.005\n",
      "INFO:tensorflow:global_step/sec: 15.0477\n",
      "INFO:tensorflow:loss = 0.32313842, step = 101 (6.647 sec)\n",
      "INFO:tensorflow:lr = 0.0044570095 (6.647 sec)\n",
      "INFO:tensorflow:global_step/sec: 10.5\n",
      "INFO:tensorflow:loss = 0.35625303, step = 201 (9.524 sec)\n",
      "INFO:tensorflow:lr = 0.003972987 (9.524 sec)\n",
      "INFO:tensorflow:global_step/sec: 8.66838\n",
      "INFO:tensorflow:loss = 0.28380275, step = 301 (11.536 sec)\n",
      "INFO:tensorflow:lr = 0.0035415282 (11.536 sec)\n",
      "INFO:tensorflow:global_step/sec: 7.01188\n",
      "INFO:tensorflow:loss = 0.5595201, step = 401 (14.261 sec)\n",
      "INFO:tensorflow:lr = 0.003156925 (14.261 sec)\n",
      "INFO:tensorflow:global_step/sec: 5.51049\n",
      "INFO:tensorflow:loss = 0.27650014, step = 501 (18.147 sec)\n",
      "INFO:tensorflow:lr = 0.002814089 (18.147 sec)\n",
      "INFO:tensorflow:global_step/sec: 4.67852\n",
      "INFO:tensorflow:loss = 0.28096947, step = 601 (21.374 sec)\n",
      "INFO:tensorflow:lr = 0.0025084843 (21.374 sec)\n",
      "INFO:tensorflow:global_step/sec: 3.41579\n",
      "INFO:tensorflow:loss = 0.32894027, step = 701 (29.276 sec)\n",
      "INFO:tensorflow:lr = 0.002236068 (29.276 sec)\n",
      "INFO:tensorflow:global_step/sec: 2.26586\n",
      "INFO:tensorflow:loss = 0.09264932, step = 801 (44.134 sec)\n",
      "INFO:tensorflow:lr = 0.0019932354 (44.134 sec)\n",
      "INFO:tensorflow:global_step/sec: 13.5458\n",
      "INFO:tensorflow:loss = 0.069852516, step = 901 (7.382 sec)\n",
      "INFO:tensorflow:lr = 0.0017767737 (7.381 sec)\n",
      "INFO:tensorflow:global_step/sec: 10.2854\n",
      "INFO:tensorflow:loss = 0.10054389, step = 1001 (9.723 sec)\n",
      "INFO:tensorflow:lr = 0.0015838195 (9.723 sec)\n",
      "INFO:tensorflow:global_step/sec: 8.52553\n",
      "INFO:tensorflow:loss = 0.083977856, step = 1101 (11.729 sec)\n",
      "INFO:tensorflow:lr = 0.0014118198 (11.729 sec)\n",
      "INFO:tensorflow:global_step/sec: 7.2203\n",
      "INFO:tensorflow:loss = 0.015804496, step = 1201 (13.850 sec)\n",
      "INFO:tensorflow:lr = 0.0012584989 (13.850 sec)\n",
      "INFO:tensorflow:global_step/sec: 5.92501\n",
      "INFO:tensorflow:loss = 0.029572552, step = 1301 (16.878 sec)\n",
      "INFO:tensorflow:lr = 0.0011218284 (16.878 sec)\n",
      "INFO:tensorflow:global_step/sec: 4.56295\n",
      "INFO:tensorflow:loss = 0.03409443, step = 1401 (21.916 sec)\n",
      "INFO:tensorflow:lr = 0.001 (21.916 sec)\n",
      "INFO:tensorflow:global_step/sec: 3.17131\n",
      "INFO:tensorflow:loss = 0.035185147, step = 1501 (31.533 sec)\n",
      "INFO:tensorflow:lr = 0.00089140196 (31.532 sec)\n",
      "INFO:tensorflow:Saving checkpoints for 1564 into /var/folders/sx/fv0r97j96fz8njp14dt5g7940000gn/T/tmp17gnoxor/model.ckpt.\n",
      "INFO:tensorflow:Loss for final step: 0.00018309473.\n"
     ]
    },
    {
     "data": {
      "text/plain": [
       "<tensorflow.python.estimator.estimator.Estimator at 0x112e889e8>"
      ]
     },
     "execution_count": 5,
     "metadata": {},
     "output_type": "execute_result"
    }
   ],
   "source": [
    "(X_train, y_train), (X_test, y_test) = tf.keras.datasets.imdb.load_data(num_words=VOCAB_SIZE)\n",
    "X_train, y_train = sort_by_len(X_train, y_train)\n",
    "X_test, y_test = sort_by_len(X_test, y_test)\n",
    "\n",
    "estimator = tf.estimator.Estimator(model_fn)\n",
    "estimator.train(lambda: train_input_fn(X_train, y_train))"
   ]
  },
  {
   "cell_type": "code",
   "execution_count": 6,
   "metadata": {},
   "outputs": [
    {
     "name": "stdout",
     "output_type": "stream",
     "text": [
      "INFO:tensorflow:Calling model_fn.\n",
      "INFO:tensorflow:Done calling model_fn.\n",
      "INFO:tensorflow:Graph was finalized.\n",
      "INFO:tensorflow:Restoring parameters from /var/folders/sx/fv0r97j96fz8njp14dt5g7940000gn/T/tmp17gnoxor/model.ckpt-1564\n",
      "INFO:tensorflow:Running local_init_op.\n",
      "INFO:tensorflow:Done running local_init_op.\n",
      "Accuracy: 0.8905\n",
      "             precision    recall  f1-score   support\n",
      "\n",
      "          0       0.87      0.93      0.89     12500\n",
      "          1       0.92      0.86      0.89     12500\n",
      "\n",
      "avg / total       0.89      0.89      0.89     25000\n",
      "\n"
     ]
    }
   ],
   "source": [
    "y_pred = np.array(list(estimator.predict(lambda: predict_input_fn(X_test))))\n",
    "print(\"Accuracy: %.4f\" % (y_pred==y_test).mean())\n",
    "print(classification_report(y_test, y_pred))"
   ]
  },
  {
   "cell_type": "code",
   "execution_count": null,
   "metadata": {},
   "outputs": [],
   "source": []
  }
 ],
 "metadata": {
  "kernelspec": {
   "display_name": "Python 3",
   "language": "python",
   "name": "python3"
  },
  "language_info": {
   "codemirror_mode": {
    "name": "ipython",
    "version": 3
   },
   "file_extension": ".py",
   "mimetype": "text/x-python",
   "name": "python",
   "nbconvert_exporter": "python",
   "pygments_lexer": "ipython3",
   "version": "3.6.3"
  }
 },
 "nbformat": 4,
 "nbformat_minor": 2
}
