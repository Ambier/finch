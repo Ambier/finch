{
 "cells": [
  {
   "cell_type": "code",
   "execution_count": 1,
   "metadata": {},
   "outputs": [],
   "source": [
    "import tensorflow as tf\n",
    "import numpy as np\n",
    "from sklearn.metrics import classification_report\n",
    "\n",
    "tf.logging.set_verbosity(tf.logging.INFO)"
   ]
  },
  {
   "cell_type": "code",
   "execution_count": 2,
   "metadata": {},
   "outputs": [],
   "source": [
    "VOCAB_SIZE = 20000\n",
    "EMBED_DIM = 128\n",
    "RNN_SIZE = 128\n",
    "CLIP_NORM = 5.0\n",
    "BATCH_SIZE = 32\n",
    "DISPLAY_STEP = 50\n",
    "N_EPOCH = 2\n",
    "N_CLASS = 2"
   ]
  },
  {
   "cell_type": "code",
   "execution_count": 3,
   "metadata": {},
   "outputs": [],
   "source": [
    "def sort_by_len(x, y):\n",
    "    idx = sorted(range(len(x)), key=lambda i: len(x[i]))\n",
    "    return x[idx], y[idx]\n",
    "\n",
    "(X_train, y_train), (X_test, y_test) = tf.keras.datasets.imdb.load_data(num_words=VOCAB_SIZE)\n",
    "X_train, y_train = sort_by_len(X_train, y_train)\n",
    "X_test, y_test = sort_by_len(X_test, y_test)"
   ]
  },
  {
   "cell_type": "code",
   "execution_count": 4,
   "metadata": {},
   "outputs": [],
   "source": [
    "def pad_sentence_batch(sent_batch):\n",
    "    max_seq_len = max([len(sent) for sent in sent_batch])\n",
    "    padded_seqs = [(sent + [0]*(max_seq_len - len(sent))) for sent in sent_batch]\n",
    "    return padded_seqs\n",
    "\n",
    "def next_train_batch():\n",
    "    for i in range(0, len(X_train), BATCH_SIZE):\n",
    "        padded_seqs = pad_sentence_batch(X_train[i : i+BATCH_SIZE])\n",
    "        yield padded_seqs, y_train[i : i+BATCH_SIZE]\n",
    "        \n",
    "def next_test_batch():\n",
    "    for i in range(0, len(X_test), BATCH_SIZE):\n",
    "        padded_seqs = pad_sentence_batch(X_test[i : i+BATCH_SIZE])\n",
    "        yield padded_seqs\n",
    "        \n",
    "def train_input_fn():\n",
    "    dataset = tf.data.Dataset.from_generator(next_train_batch, (tf.int32,tf.int64),\n",
    "        (tf.TensorShape([None,None]),tf.TensorShape([None])))\n",
    "    dataset = dataset.repeat(N_EPOCH)\n",
    "    iterator = dataset.make_one_shot_iterator()\n",
    "    X_train_batch, y_train_batch = iterator.get_next()\n",
    "    return {'_': X_train_batch}, y_train_batch\n",
    "\n",
    "def predict_input_fn():\n",
    "    dataset = tf.data.Dataset.from_generator(next_test_batch, tf.int32,\n",
    "        tf.TensorShape([None,None]))\n",
    "    iterator = dataset.make_one_shot_iterator()\n",
    "    return {'_': iterator.get_next()}"
   ]
  },
  {
   "cell_type": "code",
   "execution_count": 5,
   "metadata": {},
   "outputs": [],
   "source": [
    "def rnn_cell():\n",
    "    return tf.nn.rnn_cell.GRUCell(RNN_SIZE//2, kernel_initializer=tf.orthogonal_initializer())\n",
    "\n",
    "def forward(inputs, reuse, is_training):\n",
    "    with tf.variable_scope('model', reuse=reuse):\n",
    "        x = tf.contrib.layers.embed_sequence(inputs, VOCAB_SIZE, EMBED_DIM)\n",
    "        x = tf.layers.dropout(x, 0.2, training=is_training)\n",
    "        _, bi_states = tf.nn.bidirectional_dynamic_rnn(\n",
    "            rnn_cell(), rnn_cell(), x, tf.count_nonzero(inputs, 1), dtype=tf.float32)\n",
    "        x = tf.concat(bi_states, -1)\n",
    "        logits = tf.layers.dense(x, N_CLASS)\n",
    "    return logits\n",
    "\n",
    "def clip_grads(loss):\n",
    "    params = tf.trainable_variables()\n",
    "    grads = tf.gradients(loss, params)\n",
    "    clipped_grads, _ = tf.clip_by_global_norm(grads, CLIP_NORM)\n",
    "    return zip(clipped_grads, params)\n",
    "\n",
    "def model_fn(features, labels, mode, params):\n",
    "    logits = forward(features['_'], reuse=False, is_training=True)\n",
    "    preds = forward(features['_'], reuse=True, is_training=False)\n",
    "    \n",
    "    if mode == tf.estimator.ModeKeys.PREDICT:\n",
    "        preds = tf.argmax(preds, -1)\n",
    "        return tf.estimator.EstimatorSpec(mode, predictions=preds)\n",
    "    \n",
    "    if mode == tf.estimator.ModeKeys.TRAIN:\n",
    "        global_step = tf.train.get_global_step()\n",
    "\n",
    "        lr_op = tf.train.exponential_decay(5e-3, global_step, 1400, 0.2)\n",
    "\n",
    "        loss_op = tf.reduce_mean(tf.nn.sparse_softmax_cross_entropy_with_logits(\n",
    "            logits=logits, labels=labels))\n",
    "\n",
    "        train_op = tf.train.AdamOptimizer(lr_op).apply_gradients(\n",
    "            clip_grads(loss_op), global_step=global_step)\n",
    "\n",
    "        return tf.estimator.EstimatorSpec(\n",
    "            mode=mode, loss=loss_op, train_op=train_op)"
   ]
  },
  {
   "cell_type": "code",
   "execution_count": 6,
   "metadata": {},
   "outputs": [
    {
     "name": "stdout",
     "output_type": "stream",
     "text": [
      "INFO:tensorflow:Using default config.\n",
      "WARNING:tensorflow:Using temporary folder as model directory: /var/folders/sx/fv0r97j96fz8njp14dt5g7940000gn/T/tmpacrw7vt8\n",
      "INFO:tensorflow:Using config: {'_model_dir': '/var/folders/sx/fv0r97j96fz8njp14dt5g7940000gn/T/tmpacrw7vt8', '_tf_random_seed': None, '_save_summary_steps': 100, '_save_checkpoints_steps': None, '_save_checkpoints_secs': 600, '_session_config': None, '_keep_checkpoint_max': 5, '_keep_checkpoint_every_n_hours': 10000, '_log_step_count_steps': 100, '_service': None, '_cluster_spec': <tensorflow.python.training.server_lib.ClusterSpec object at 0x11ec05b38>, '_task_type': 'worker', '_task_id': 0, '_global_id_in_cluster': 0, '_master': '', '_evaluation_master': '', '_is_chief': True, '_num_ps_replicas': 0, '_num_worker_replicas': 1}\n",
      "WARNING:tensorflow:Estimator's model_fn (<function model_fn at 0x11f171e18>) includes params argument, but params are not passed to Estimator.\n",
      "INFO:tensorflow:Calling model_fn.\n",
      "INFO:tensorflow:Done calling model_fn.\n",
      "INFO:tensorflow:Create CheckpointSaverHook.\n",
      "INFO:tensorflow:Graph was finalized.\n",
      "INFO:tensorflow:Running local_init_op.\n",
      "INFO:tensorflow:Done running local_init_op.\n",
      "INFO:tensorflow:Saving checkpoints for 1 into /var/folders/sx/fv0r97j96fz8njp14dt5g7940000gn/T/tmpacrw7vt8/model.ckpt.\n",
      "INFO:tensorflow:loss = 0.692585, step = 1\n",
      "INFO:tensorflow:global_step/sec: 15.1342\n",
      "INFO:tensorflow:loss = 0.4080379, step = 101 (6.609 sec)\n",
      "INFO:tensorflow:global_step/sec: 10.1741\n",
      "INFO:tensorflow:loss = 0.30245256, step = 201 (9.829 sec)\n",
      "INFO:tensorflow:global_step/sec: 8.41101\n",
      "INFO:tensorflow:loss = 0.31718838, step = 301 (11.889 sec)\n",
      "INFO:tensorflow:global_step/sec: 7.1207\n",
      "INFO:tensorflow:loss = 0.5419406, step = 401 (14.044 sec)\n",
      "INFO:tensorflow:global_step/sec: 5.45784\n",
      "INFO:tensorflow:loss = 0.28757095, step = 501 (18.322 sec)\n",
      "INFO:tensorflow:global_step/sec: 4.58391\n",
      "INFO:tensorflow:loss = 0.19731109, step = 601 (21.817 sec)\n",
      "INFO:tensorflow:global_step/sec: 3.31974\n",
      "INFO:tensorflow:loss = 0.34360233, step = 701 (30.123 sec)\n",
      "INFO:tensorflow:global_step/sec: 2.19394\n",
      "INFO:tensorflow:loss = 0.11770648, step = 801 (45.579 sec)\n",
      "INFO:tensorflow:global_step/sec: 14.224\n",
      "INFO:tensorflow:loss = 0.034137804, step = 901 (7.030 sec)\n",
      "INFO:tensorflow:global_step/sec: 9.36581\n",
      "INFO:tensorflow:loss = 0.084217444, step = 1001 (10.677 sec)\n",
      "INFO:tensorflow:global_step/sec: 8.00161\n",
      "INFO:tensorflow:loss = 0.040634762, step = 1101 (12.497 sec)\n",
      "INFO:tensorflow:global_step/sec: 6.7752\n",
      "INFO:tensorflow:loss = 0.02127779, step = 1201 (14.760 sec)\n",
      "INFO:tensorflow:global_step/sec: 5.70441\n",
      "INFO:tensorflow:loss = 0.023767488, step = 1301 (17.531 sec)\n",
      "INFO:tensorflow:global_step/sec: 4.33522\n",
      "INFO:tensorflow:loss = 0.03354795, step = 1401 (23.068 sec)\n",
      "INFO:tensorflow:global_step/sec: 2.93768\n",
      "INFO:tensorflow:loss = 0.01812819, step = 1501 (34.039 sec)\n",
      "INFO:tensorflow:Saving checkpoints for 1564 into /var/folders/sx/fv0r97j96fz8njp14dt5g7940000gn/T/tmpacrw7vt8/model.ckpt.\n",
      "INFO:tensorflow:Loss for final step: 0.00032922038.\n"
     ]
    },
    {
     "data": {
      "text/plain": [
       "<tensorflow.python.estimator.estimator.Estimator at 0x11ec05d68>"
      ]
     },
     "execution_count": 6,
     "metadata": {},
     "output_type": "execute_result"
    }
   ],
   "source": [
    "estimator = tf.estimator.Estimator(model_fn)\n",
    "estimator.train(train_input_fn)"
   ]
  },
  {
   "cell_type": "code",
   "execution_count": 7,
   "metadata": {},
   "outputs": [
    {
     "name": "stdout",
     "output_type": "stream",
     "text": [
      "INFO:tensorflow:Calling model_fn.\n",
      "INFO:tensorflow:Done calling model_fn.\n",
      "INFO:tensorflow:Graph was finalized.\n",
      "INFO:tensorflow:Restoring parameters from /var/folders/sx/fv0r97j96fz8njp14dt5g7940000gn/T/tmpacrw7vt8/model.ckpt-1564\n",
      "INFO:tensorflow:Running local_init_op.\n",
      "INFO:tensorflow:Done running local_init_op.\n",
      "Accuracy: 0.8955\n",
      "             precision    recall  f1-score   support\n",
      "\n",
      "          0       0.87      0.92      0.90     12500\n",
      "          1       0.92      0.87      0.89     12500\n",
      "\n",
      "avg / total       0.90      0.90      0.90     25000\n",
      "\n"
     ]
    }
   ],
   "source": [
    "y_pred = np.array(list(estimator.predict(predict_input_fn)))\n",
    "print(\"Accuracy: %.4f\" % (y_pred==y_test).mean())\n",
    "print(classification_report(y_test, y_pred))"
   ]
  },
  {
   "cell_type": "code",
   "execution_count": null,
   "metadata": {},
   "outputs": [],
   "source": []
  }
 ],
 "metadata": {
  "kernelspec": {
   "display_name": "Python 3",
   "language": "python",
   "name": "python3"
  },
  "language_info": {
   "codemirror_mode": {
    "name": "ipython",
    "version": 3
   },
   "file_extension": ".py",
   "mimetype": "text/x-python",
   "name": "python",
   "nbconvert_exporter": "python",
   "pygments_lexer": "ipython3",
   "version": "3.6.3"
  }
 },
 "nbformat": 4,
 "nbformat_minor": 2
}
